{
 "cells": [
  {
   "cell_type": "code",
   "execution_count": 122,
   "id": "7b8736b5",
   "metadata": {},
   "outputs": [],
   "source": [
    "import pandas as pd\n",
    "normalised = pd.read_excel(\"normalised_BZK.xlsx\")\n",
    "# remove Unnamed columns\n",
    "normalised = normalised.loc[:,~normalised.columns.str.startswith('Unnamed:')]"
   ]
  },
  {
   "cell_type": "code",
   "execution_count": 123,
   "id": "ff6a1e4d",
   "metadata": {},
   "outputs": [],
   "source": [
    "def convert_and_normalise_dates(df):\n",
    "    # Identify columns ending with 'Date'\n",
    "    date_columns = [col for col in df.columns if col.endswith('Date')]\n",
    "    \n",
    "    for col in date_columns:\n",
    "        # Generate the Normalised column name\n",
    "        normalised_col = col + 'Normalised'\n",
    "        \n",
    "        # Ensure the Normalised column exists in the DataFrame\n",
    "        if normalised_col in df.columns:\n",
    "            def convert_date(row):\n",
    "                if pd.isna(row[normalised_col]) and pd.notna(row[col]):\n",
    "                    date_value = pd.to_datetime(row[col], errors='coerce', dayfirst=True, infer_datetime_format=True)\n",
    "                    if pd.notna(date_value):\n",
    "                        return date_value.strftime('%Y-%m-%d')\n",
    "                return row[normalised_col]\n",
    "            \n",
    "            # Convert the date format to yyyy-mm-dd and update the Normalised column if empty\n",
    "            df[normalised_col] = df.apply(convert_date, axis=1)\n",
    "    \n",
    "    return df\n",
    "\n",
    "normalised = convert_and_normalise_dates(normalised)"
   ]
  },
  {
   "cell_type": "code",
   "execution_count": null,
   "id": "115abbed",
   "metadata": {},
   "outputs": [],
   "source": [
    "# Display only columns that contain 'Date' in their names\n",
    "date_columns = [col for col in df.columns if 'Date' in col]\n",
    "normalised[date_columns].head(50)"
   ]
  },
  {
   "cell_type": "code",
   "execution_count": 125,
   "id": "a0be398b",
   "metadata": {},
   "outputs": [],
   "source": [
    "#create MaritalStatus column based on ExtraRemarks1 and ExtraRemarks2\n",
    "\n",
    "def create_marital_status(df, check_list):\n",
    "    # Iterate over the rows to populate the 'Marital Status' column\n",
    "    for index, row in df.iterrows():\n",
    "        if str(row['ApplicantExtraRemarks1']).lower() in check_list:\n",
    "            df.at[index, 'MaritalStatus'] = row['ApplicantExtraRemarks1']\n",
    "        elif str(row['ApplicantExtraRemarks2']).lower() in check_list:\n",
    "            df.at[index, 'MaritalStatus'] = row['ApplicantExtraRemarks2']\n",
    "    \n",
    "    return df\n",
    "\n",
    "marital_list = ['led.','ledig','led','ledig.','verh','verh.','verheiratet','verw.','verw','Wwe.','Witwe','gesch.','verwitwet']\n",
    "normalised = create_marital_status(normalised, marital_list)\n"
   ]
  },
  {
   "cell_type": "code",
   "execution_count": null,
   "id": "98785628",
   "metadata": {},
   "outputs": [],
   "source": [
    "normalised['MaritalStatus'].tail(20)"
   ]
  },
  {
   "cell_type": "code",
   "execution_count": 127,
   "id": "c8fc404e",
   "metadata": {},
   "outputs": [],
   "source": [
    "#create VictimDeathStatus column based on VictimExtraRemarks1 and VictimExtraRemarks2 and VictimExtraRemarks3\n",
    "\n",
    "def create_death_status(df, check_list):\n",
    "    # Iterate over the rows to populate the 'Marital Status' column\n",
    "    df['VictimDeathStatus'] = ''\n",
    "    for index, row in df.iterrows():\n",
    "        if str(row['VictimExtraRemarks1']).lower() in check_list:\n",
    "            df.at[index, 'VictimDeathStatus'] = row['VictimExtraRemarks1']\n",
    "        elif str(row['VictimExtraRemarks2']).lower() in check_list:\n",
    "            df.at[index, 'VictimDeathStatus'] = row['VictimExtraRemarks2']\n",
    "        elif str(row['VictimExtraRemarks3']).lower() in check_list:\n",
    "            df.at[index, 'VictimDeathStatus'] = row['VictimExtraRemarks3']\n",
    "        elif str(row['VictimDeathDate']).lower() in check_list:\n",
    "            df.at[index, 'VictimDeathStatus'] = row['VictimDeathDate']\n",
    "    \n",
    "    return df\n",
    "\n",
    "death_list = ['verst.','verst','verstorben','verschollen','umgekommen']\n",
    "normalised = create_death_status(normalised, death_list)"
   ]
  },
  {
   "cell_type": "code",
   "execution_count": null,
   "id": "b7684bce",
   "metadata": {
    "scrolled": true
   },
   "outputs": [],
   "source": [
    "normalised['VictimDeathStatus'].head(50)"
   ]
  },
  {
   "cell_type": "code",
   "execution_count": 129,
   "id": "357c4b50",
   "metadata": {},
   "outputs": [],
   "source": [
    "existing_file_path = 'C:/Users/mahsa/Documents/Wiedergutmachung/BZK/BZK-InformationExtraction/BZK-InformationExtraction/normalised_BZK.xlsx'\n",
    "\n",
    "with pd.ExcelWriter(existing_file_path, mode='a', engine='openpyxl', if_sheet_exists='replace') as writer:\n",
    "    normalised.to_excel(writer, sheet_name='final', index=False)\n"
   ]
  },
  {
   "cell_type": "code",
   "execution_count": null,
   "id": "0534ed82",
   "metadata": {},
   "outputs": [],
   "source": []
  }
 ],
 "metadata": {
  "kernelspec": {
   "display_name": "Python 3 (ipykernel)",
   "language": "python",
   "name": "python3"
  },
  "language_info": {
   "codemirror_mode": {
    "name": "ipython",
    "version": 3
   },
   "file_extension": ".py",
   "mimetype": "text/x-python",
   "name": "python",
   "nbconvert_exporter": "python",
   "pygments_lexer": "ipython3",
   "version": "3.9.1"
  }
 },
 "nbformat": 4,
 "nbformat_minor": 5
}
